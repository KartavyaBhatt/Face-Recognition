{
 "cells": [
  {
   "cell_type": "code",
   "execution_count": 2,
   "metadata": {},
   "outputs": [
    {
     "name": "stderr",
     "output_type": "stream",
     "text": [
      "/home/joker/anaconda3/lib/python3.6/site-packages/sklearn/cross_validation.py:44: DeprecationWarning: This module was deprecated in version 0.18 in favor of the model_selection module into which all the refactored classes and functions are moved. Also note that the interface of the new CV iterators are different from that of this module. This module will be removed in 0.20.\n",
      "  \"This module will be removed in 0.20.\", DeprecationWarning)\n",
      "Using TensorFlow backend.\n"
     ]
    }
   ],
   "source": [
    "import cv2\n",
    "import os\n",
    "import re\n",
    "import numpy as np\n",
    "from sklearn.preprocessing import StandardScaler\n",
    "from sklearn.decomposition import PCA\n",
    "from sklearn.cross_validation import train_test_split\n",
    "import matplotlib.pyplot as plt\n",
    "import csv\n",
    "import pandas as pd\n",
    "import keras\n",
    "from keras import models,Model\n",
    "from keras.layers import Dense,GaussianNoise, Dropout,Input\n",
    "%matplotlib inline"
   ]
  },
  {
   "cell_type": "code",
   "execution_count": 3,
   "metadata": {
    "collapsed": true,
    "scrolled": true
   },
   "outputs": [],
   "source": [
    "dataSet = []\n",
    "person = []\n",
    "horiSet = []\n",
    "\n",
    "count = 0\n",
    "folder = \"/home/joker/PycharmProjecta/ML_PCA_Image/MLFaceImages\"\n",
    "for filename in os.listdir(folder):\n",
    "        img = cv2.imread(os.path.join(folder,filename))\n",
    "#         img = cv2.cvtColor(img, cv2.COLOR_RGB2GRAY)\n",
    "        img = cv2.resize(img, (520, 520))\n",
    "        img = img.flatten()\n",
    "        img = np.ravel(img)\n",
    "        if img is not None:\n",
    "            numbers = re.findall('\\d+',filename)\n",
    "            numbers = list(map(int,numbers))\n",
    "            person.append(numbers[0])\n",
    "            horiSet.append(img.T)\n",
    "            dataSet.append(img)\n",
    "            count = count + 1"
   ]
  },
  {
   "cell_type": "code",
   "execution_count": 4,
   "metadata": {
    "collapsed": true
   },
   "outputs": [],
   "source": [
    "dataSet = np.array(dataSet)\n",
    "test = pd.DataFrame(dataSet)\n",
    "\n",
    "person = np.array(person)\n",
    "test['id'] = person.transpose()\n",
    "\n",
    "unique_person = test['id']\n",
    "unique_person = np.array(unique_person)\n",
    "unique_person = np.unique(unique_person)\n",
    "key = range(len(unique_person))\n",
    "\n",
    "roll_dict = dict( zip(unique_person, key))\n",
    "# print(roll_dict)\n",
    "\n",
    "mapped_roll = np.vectorize(roll_dict.get)(person)\n",
    "# print(mapped_roll)\n",
    "test['id'] = mapped_roll.transpose()\n",
    "\n",
    "y = test['id'].values.astype('int64')\n",
    "images = test.drop(['id'], axis=1, inplace=False)\n",
    "x = (images.values).astype('uint8')\n",
    "split_test_size = 0.30\n",
    "\n",
    "X_train, X_test, Y_train, Y_test = train_test_split(x, y, test_size = split_test_size, random_state=13)\n",
    "# print(test)"
   ]
  },
  {
   "cell_type": "code",
   "execution_count": 5,
   "metadata": {},
   "outputs": [
    {
     "name": "stderr",
     "output_type": "stream",
     "text": [
      "/home/joker/anaconda3/lib/python3.6/site-packages/sklearn/utils/validation.py:429: DataConversionWarning: Data with input dtype uint8 was converted to float64 by StandardScaler.\n",
      "  warnings.warn(msg, _DataConversionWarning)\n"
     ]
    }
   ],
   "source": [
    "scalar = StandardScaler()\n",
    "scalar.fit(X_train)\n",
    "X_sc_train = scalar.transform(X_train)\n",
    "X_sc_test = scalar.transform(X_test)"
   ]
  },
  {
   "cell_type": "code",
   "execution_count": 6,
   "metadata": {},
   "outputs": [
    {
     "data": {
      "text/plain": [
       "<matplotlib.text.Text at 0x7f0530510b00>"
      ]
     },
     "execution_count": 6,
     "metadata": {},
     "output_type": "execute_result"
    },
    {
     "data": {
      "image/png": "[encoded data removed]",
      "text/plain": [
       "<matplotlib.figure.Figure at 0x7f0539512ef0>"
      ]
     },
     "metadata": {},
     "output_type": "display_data"
    }
   ],
   "source": [
    "pca = PCA(n_components=127)\n",
    "pca.fit(X_train)\n",
    "\n",
    "plt.plot(np.cumsum(pca.explained_variance_ratio_))\n",
    "plt.xlabel('Number of components')\n",
    "plt.ylabel('Variance')"
   ]
  },
  {
   "cell_type": "code",
   "execution_count": null,
   "metadata": {
    "scrolled": true
   },
   "outputs": [
    {
     "name": "stdout",
     "output_type": "stream",
     "text": [
      "(71, 811200)\n",
      "(71, 60)\n"
     ]
    },
    {
     "data": {
      "text/plain": [
       "<matplotlib.text.Text at 0x7f05304125f8>"
      ]
     },
     "execution_count": 7,
     "metadata": {},
     "output_type": "execute_result"
    },
    {
     "data": {
      "image/png": "[encoded data removed]",
      "text/plain": [
       "<matplotlib.figure.Figure at 0x7f053046c128>"
      ]
     },
     "metadata": {},
     "output_type": "display_data"
    }
   ],
   "source": [
    "pca = PCA(n_components=60)\n",
    "X_pca_train = pca.fit_transform(X_sc_train)\n",
    "X_pca_test = pca.transform(X_sc_test)\n",
    "\n",
    "pca_std = np.std(X_pca_train)\n",
    "print(X_sc_train.shape)\n",
    "print(X_pca_train.shape)\n",
    "\n",
    "plt.plot(np.cumsum(pca.explained_variance_ratio_))\n",
    "plt.xlabel('Number of components')\n",
    "plt.ylabel('Variance')"
   ]
  },
  {
   "cell_type": "code",
   "execution_count": null,
   "metadata": {
    "collapsed": true
   },
   "outputs": [],
   "source": [
    "model = models.Sequential()\n",
    "layers = 1\n",
    "units = 108\n",
    "\n",
    "model.add(Dense(units, input_dim=150, activation='relu'))\n",
    "\n",
    "for i in range(layers):\n",
    "    model.add(Dense(units, activation='relu'))\n",
    "    model.add(Dropout(0.1))\n",
    "model.add(Dense(len(mapped_roll), activation='softmax'))\n",
    "\n",
    "model.compile(loss='sparse_categorical_crossentropy', optimizer='Rmsprop', metrics=['accuracy'])\n",
    "model.fit(X_pca_train, Y_train, batch_size=100, epochs=150, verbose=2)"
   ]
  },
  {
   "cell_type": "code",
   "execution_count": null,
   "metadata": {
    "collapsed": true
   },
   "outputs": [],
   "source": [
    "predictions = model.predict_classes(X_pca_test, verbose=0)\n",
    "\n",
    "def write_predictions(predictions, fname):\n",
    "    pd.DataFrame({\"ImageId\": list(range(1,len(predictions)+1)), \"Label\": predictions}).to_csv(fname, index=False, header=True)\n",
    "\n",
    "write_predictions(predictions, \"pca-keras-mlp.csv\")"
   ]
  },
  {
   "cell_type": "code",
   "execution_count": null,
   "metadata": {
    "collapsed": true
   },
   "outputs": [],
   "source": [
    "result = pd.read_csv('pca-keras-mlp.csv')\n",
    "result = result['Label']\n",
    "result = np.array(result)\n",
    "\n",
    "error = np.array( Y_test - result)\n",
    "error = error[error != 0]\n",
    "\n",
    "error = error.size/Y_test.size\n",
    "print(\"Accuracy: \",1-error)"
   ]
  },
  {
   "cell_type": "code",
   "execution_count": null,
   "metadata": {
    "collapsed": true
   },
   "outputs": [],
   "source": [
    "mapped_roll"
   ]
  }
 ],
 "metadata": {
  "kernelspec": {
   "display_name": "Python 3",
   "language": "python",
   "name": "python3"
  },
  "language_info": {
   "codemirror_mode": {
    "name": "ipython",
    "version": 3
   },
   "file_extension": ".py",
   "mimetype": "text/x-python",
   "name": "python",
   "nbconvert_exporter": "python",
   "pygments_lexer": "ipython3",
   "version": "3.6.4"
  }
 },
 "nbformat": 4,
 "nbformat_minor": 2
}
